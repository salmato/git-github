{
  "nbformat": 4,
  "nbformat_minor": 0,
  "metadata": {
    "colab": {
      "provenance": [],
      "authorship_tag": "ABX9TyOI/YJ+DPMcgO4pQgokQcsV",
      "include_colab_link": true
    },
    "kernelspec": {
      "name": "python3",
      "display_name": "Python 3"
    },
    "language_info": {
      "name": "python"
    }
  },
  "cells": [
    {
      "cell_type": "markdown",
      "metadata": {
        "id": "view-in-github",
        "colab_type": "text"
      },
      "source": [
        "<a href=\"https://colab.research.google.com/github/salmato/git-github/blob/main/Np2704.ipynb\" target=\"_parent\"><img src=\"https://colab.research.google.com/assets/colab-badge.svg\" alt=\"Open In Colab\"/></a>"
      ]
    },
    {
      "cell_type": "code",
      "execution_count": 7,
      "metadata": {
        "id": "rDHWJoecbQSO"
      },
      "outputs": [],
      "source": [
        "import pandas as pd\n",
        "import numpy as np"
      ]
    },
    {
      "cell_type": "code",
      "source": [
        "#creer un vecteur\n",
        "a= np.array([1,2,5])\n",
        "a"
      ],
      "metadata": {
        "colab": {
          "base_uri": "https://localhost:8080/"
        },
        "id": "UOtkZLf4bXF3",
        "outputId": "9c4661f4-cf64-4c9f-dff0-9e29c0c5f9bf"
      },
      "execution_count": null,
      "outputs": [
        {
          "output_type": "execute_result",
          "data": {
            "text/plain": [
              "array([1, 2, 5])"
            ]
          },
          "metadata": {},
          "execution_count": 23
        }
      ]
    },
    {
      "cell_type": "code",
      "source": [
        "b= np.array([(2,3,10) , (8,9,0),(2,3,5)])\n",
        "print(b)"
      ],
      "metadata": {
        "colab": {
          "base_uri": "https://localhost:8080/",
          "height": 159
        },
        "id": "CKJuROcfbXMo",
        "outputId": "fbd98efb-cb1a-451a-bfff-17e048444d1c"
      },
      "execution_count": 1,
      "outputs": [
        {
          "output_type": "error",
          "ename": "NameError",
          "evalue": "name 'np' is not defined",
          "traceback": [
            "\u001b[0;31m---------------------------------------------------------------------------\u001b[0m",
            "\u001b[0;31mNameError\u001b[0m                                 Traceback (most recent call last)",
            "\u001b[0;32m<ipython-input-1-a26ea283682d>\u001b[0m in \u001b[0;36m<cell line: 1>\u001b[0;34m()\u001b[0m\n\u001b[0;32m----> 1\u001b[0;31m \u001b[0mb\u001b[0m\u001b[0;34m=\u001b[0m \u001b[0mnp\u001b[0m\u001b[0;34m.\u001b[0m\u001b[0marray\u001b[0m\u001b[0;34m(\u001b[0m\u001b[0;34m[\u001b[0m\u001b[0;34m(\u001b[0m\u001b[0;36m2\u001b[0m\u001b[0;34m,\u001b[0m\u001b[0;36m3\u001b[0m\u001b[0;34m,\u001b[0m\u001b[0;36m10\u001b[0m\u001b[0;34m)\u001b[0m \u001b[0;34m,\u001b[0m \u001b[0;34m(\u001b[0m\u001b[0;36m8\u001b[0m\u001b[0;34m,\u001b[0m\u001b[0;36m9\u001b[0m\u001b[0;34m,\u001b[0m\u001b[0;36m0\u001b[0m\u001b[0;34m)\u001b[0m\u001b[0;34m,\u001b[0m\u001b[0;34m(\u001b[0m\u001b[0;36m2\u001b[0m\u001b[0;34m,\u001b[0m\u001b[0;36m3\u001b[0m\u001b[0;34m,\u001b[0m\u001b[0;36m5\u001b[0m\u001b[0;34m)\u001b[0m\u001b[0;34m]\u001b[0m\u001b[0;34m)\u001b[0m\u001b[0;34m\u001b[0m\u001b[0;34m\u001b[0m\u001b[0m\n\u001b[0m\u001b[1;32m      2\u001b[0m \u001b[0mprint\u001b[0m\u001b[0;34m(\u001b[0m\u001b[0mb\u001b[0m\u001b[0;34m)\u001b[0m\u001b[0;34m\u001b[0m\u001b[0;34m\u001b[0m\u001b[0m\n",
            "\u001b[0;31mNameError\u001b[0m: name 'np' is not defined"
          ]
        }
      ]
    },
    {
      "cell_type": "code",
      "source": [
        "# Créer une matrice de 3 lignes et 4 colonnes\n",
        "\n",
        "c = np.array([(10,2,3,10) , (2,8,9,0),(2,2,3,5)] , dtype = float)\n",
        "c\n",
        "d =np.array([[[1,2],[1,2]],[[1,2],[1,2]]])\n",
        "e = np.array([1, 4, 5, 8])\n",
        "print(e)"
      ],
      "metadata": {
        "colab": {
          "base_uri": "https://localhost:8080/"
        },
        "id": "aMp0hPnWbXQV",
        "outputId": "7b9652b9-917d-4390-9025-9cebedb0ffeb"
      },
      "execution_count": null,
      "outputs": [
        {
          "output_type": "stream",
          "name": "stdout",
          "text": [
            "[1 4 5 8]\n"
          ]
        }
      ]
    },
    {
      "cell_type": "code",
      "source": [
        "z = np.zeros((5 , 2) , np.int64)\n",
        "print(z)"
      ],
      "metadata": {
        "colab": {
          "base_uri": "https://localhost:8080/"
        },
        "id": "TRUlAK7RbXTO",
        "outputId": "b0e00865-1cc5-4924-a21e-572c9e13c003"
      },
      "execution_count": null,
      "outputs": [
        {
          "output_type": "stream",
          "name": "stdout",
          "text": [
            "[[0 0]\n",
            " [0 0]\n",
            " [0 0]\n",
            " [0 0]\n",
            " [0 0]]\n"
          ]
        }
      ]
    },
    {
      "cell_type": "code",
      "source": [
        "x=np.linspace(2,5,5)\n",
        "x\n",
        "#return une serie des 5 nbr compris entre 2 et 5"
      ],
      "metadata": {
        "colab": {
          "base_uri": "https://localhost:8080/"
        },
        "id": "p7hXc00Sfdp-",
        "outputId": "48b5d375-59f2-4f69-b5cb-9d43b125405a"
      },
      "execution_count": null,
      "outputs": [
        {
          "output_type": "execute_result",
          "data": {
            "text/plain": [
              "array([2.  , 2.75, 3.5 , 4.25, 5.  ])"
            ]
          },
          "metadata": {},
          "execution_count": 25
        }
      ]
    },
    {
      "cell_type": "code",
      "source": [
        "x = np.linspace(-20,20,10)\n",
        "x # une série de 5 nombres compris entre -20 et 20\n",
        "\n",
        "import matplotlib.pyplot as plt\n",
        "\n",
        "y = np.cos(x)\n",
        "\n",
        "plt.plot(x , y)\n"
      ],
      "metadata": {
        "colab": {
          "base_uri": "https://localhost:8080/",
          "height": 448
        },
        "id": "_AENcE8NgEVF",
        "outputId": "00387893-1ca7-4fd2-bd05-6b148b68666c"
      },
      "execution_count": null,
      "outputs": [
        {
          "output_type": "execute_result",
          "data": {
            "text/plain": [
              "[<matplotlib.lines.Line2D at 0x7fd8ad1b7400>]"
            ]
          },
          "metadata": {},
          "execution_count": 26
        },
        {
          "output_type": "display_data",
          "data": {
            "text/plain": [
              "<Figure size 640x480 with 1 Axes>"
            ],
            "image/png": "[encoded data removed]"
          },
          "metadata": {}
        }
      ]
    },
    {
      "cell_type": "code",
      "source": [
        "m1=np.arange(10,37, 5)\n",
        "m1"
      ],
      "metadata": {
        "colab": {
          "base_uri": "https://localhost:8080/"
        },
        "id": "M-60esspgEcJ",
        "outputId": "346df719-c99c-4437-ea20-e843cc25a9cc"
      },
      "execution_count": null,
      "outputs": [
        {
          "output_type": "execute_result",
          "data": {
            "text/plain": [
              "array([10, 15, 20, 25, 30, 35])"
            ]
          },
          "metadata": {},
          "execution_count": 31
        }
      ]
    },
    {
      "cell_type": "code",
      "source": [
        "e = np.eye(4 , dtype=int)\n",
        "e"
      ],
      "metadata": {
        "colab": {
          "base_uri": "https://localhost:8080/"
        },
        "id": "dcq2vxdbgEgD",
        "outputId": "6580f555-0e8a-4e1d-d9b0-f03cbbe0422d"
      },
      "execution_count": null,
      "outputs": [
        {
          "output_type": "execute_result",
          "data": {
            "text/plain": [
              "array([[1, 0, 0, 0],\n",
              "       [0, 1, 0, 0],\n",
              "       [0, 0, 1, 0],\n",
              "       [0, 0, 0, 1]])"
            ]
          },
          "metadata": {},
          "execution_count": 34
        }
      ]
    },
    {
      "cell_type": "code",
      "source": [
        "f = np.full((3,2) , -5)\n",
        "f"
      ],
      "metadata": {
        "colab": {
          "base_uri": "https://localhost:8080/"
        },
        "id": "ivBtrKZngEjk",
        "outputId": "d3bd6b9d-7332-4eb6-d686-d8789a358b47"
      },
      "execution_count": null,
      "outputs": [
        {
          "output_type": "execute_result",
          "data": {
            "text/plain": [
              "array([[-5, -5],\n",
              "       [-5, -5],\n",
              "       [-5, -5]])"
            ]
          },
          "metadata": {},
          "execution_count": 35
        }
      ]
    },
    {
      "cell_type": "code",
      "source": [
        "k=np.random.random((3,2))\n",
        "k"
      ],
      "metadata": {
        "colab": {
          "base_uri": "https://localhost:8080/"
        },
        "id": "9WVQ7gcIgEoO",
        "outputId": "1870830f-f2d1-4e63-a247-67cb23d577c2"
      },
      "execution_count": null,
      "outputs": [
        {
          "output_type": "execute_result",
          "data": {
            "text/plain": [
              "array([[0.38712197, 0.15792557],\n",
              "       [0.54549184, 0.49634158],\n",
              "       [0.7628697 , 0.05323615]])"
            ]
          },
          "metadata": {},
          "execution_count": 36
        }
      ]
    },
    {
      "cell_type": "code",
      "source": [
        "k=np.random.randint((3,2))\n",
        "k #Return random integers from low (inclusive) to high (exclusive).Return random integers from the “discrete uniform” distribution of the specified dtype in the “half-open” interval [low, high). If high is None (the default), then results are from [0, low)."
      ],
      "metadata": {
        "colab": {
          "base_uri": "https://localhost:8080/"
        },
        "id": "xi0lPIpdgEsY",
        "outputId": "c5d48466-2a64-4263-adf2-2254704ea4ce"
      },
      "execution_count": null,
      "outputs": [
        {
          "output_type": "execute_result",
          "data": {
            "text/plain": [
              "array([2, 1])"
            ]
          },
          "metadata": {},
          "execution_count": 39
        }
      ]
    },
    {
      "cell_type": "code",
      "source": [
        "b = np.array([(1,3,2) , (10,3,20)])\n",
        "print(b)"
      ],
      "metadata": {
        "colab": {
          "base_uri": "https://localhost:8080/"
        },
        "id": "DQzNnQ4_gEwC",
        "outputId": "469b23c9-6b3e-4ed9-dfbd-89d23bfd7e1f"
      },
      "execution_count": null,
      "outputs": [
        {
          "output_type": "stream",
          "name": "stdout",
          "text": [
            "[[ 1  3  2]\n",
            " [10  3 20]]\n"
          ]
        }
      ]
    },
    {
      "cell_type": "code",
      "source": [
        "print(b.shape[0])"
      ],
      "metadata": {
        "colab": {
          "base_uri": "https://localhost:8080/"
        },
        "id": "med2uPP3gEz3",
        "outputId": "f4056b2b-1330-4cb9-e794-e3d9f5c9e314"
      },
      "execution_count": null,
      "outputs": [
        {
          "output_type": "stream",
          "name": "stdout",
          "text": [
            "2\n"
          ]
        }
      ]
    },
    {
      "cell_type": "code",
      "source": [
        "b.ndim  # le nbr de vecteur"
      ],
      "metadata": {
        "colab": {
          "base_uri": "https://localhost:8080/"
        },
        "id": "TmdcRlUFgE3l",
        "outputId": "34b81437-48f2-420a-9c83-6d48812a705a"
      },
      "execution_count": null,
      "outputs": [
        {
          "output_type": "execute_result",
          "data": {
            "text/plain": [
              "2"
            ]
          },
          "metadata": {},
          "execution_count": 42
        }
      ]
    },
    {
      "cell_type": "code",
      "source": [
        "t=np.random.randint(5, size=(2, 4))\n",
        "t\n"
      ],
      "metadata": {
        "colab": {
          "base_uri": "https://localhost:8080/"
        },
        "id": "CUsGu_28kqGp",
        "outputId": "d6a5f332-396c-48dc-a46a-c8d4fd501b9a"
      },
      "execution_count": null,
      "outputs": [
        {
          "output_type": "execute_result",
          "data": {
            "text/plain": [
              "array([[3, 3, 0, 1],\n",
              "       [1, 1, 4, 4]])"
            ]
          },
          "metadata": {},
          "execution_count": 43
        }
      ]
    },
    {
      "cell_type": "markdown",
      "source": [
        "\n",
        "\n",
        "operation\n",
        "\n",
        "\n",
        "\n",
        "\n",
        "Ajouter une citation"
      ],
      "metadata": {
        "id": "bBpW7w62k5DD"
      }
    },
    {
      "cell_type": "code",
      "source": [
        "a = np.array([1,2,3])\n",
        "b = np.array([10,2,-3])\n",
        "# difference entre ces deux vecter\n",
        "dif=a-b\n",
        "dif\n",
        "dif1=np.subtract(a,b)\n",
        "dif1\n",
        "ad=np.add(a,b)\n",
        "ad\n",
        "di=np.divide(a,b)\n",
        "di\n",
        "mu=np.multiply(a , b)\n",
        "mu\n"
      ],
      "metadata": {
        "colab": {
          "base_uri": "https://localhost:8080/"
        },
        "id": "frMEjTlNgE9X",
        "outputId": "a7d28fac-6269-4bff-edd1-3532b8ded58e"
      },
      "execution_count": null,
      "outputs": [
        {
          "output_type": "execute_result",
          "data": {
            "text/plain": [
              "array([10,  4, -9])"
            ]
          },
          "metadata": {},
          "execution_count": 49
        }
      ]
    },
    {
      "cell_type": "code",
      "source": [
        "np.sqrt(a)\n"
      ],
      "metadata": {
        "colab": {
          "base_uri": "https://localhost:8080/"
        },
        "id": "CHNOuSBdmx_1",
        "outputId": "ca6025f2-ed9f-4b76-fec7-5ab41fd47599"
      },
      "execution_count": null,
      "outputs": [
        {
          "output_type": "execute_result",
          "data": {
            "text/plain": [
              "array([1.        , 1.41421356, 1.73205081])"
            ]
          },
          "metadata": {},
          "execution_count": 50
        }
      ]
    },
    {
      "cell_type": "code",
      "source": [
        "np.exp(a)"
      ],
      "metadata": {
        "colab": {
          "base_uri": "https://localhost:8080/"
        },
        "id": "6j3hfsIDmyJD",
        "outputId": "c690e286-5d9f-4a72-fe81-fc5899ca1872"
      },
      "execution_count": null,
      "outputs": [
        {
          "output_type": "execute_result",
          "data": {
            "text/plain": [
              "array([ 2.71828183,  7.3890561 , 20.08553692])"
            ]
          },
          "metadata": {},
          "execution_count": 51
        }
      ]
    },
    {
      "cell_type": "code",
      "source": [
        "#multiplication des matrices a"
      ],
      "metadata": {
        "id": "GSk1K5BAmySH"
      },
      "execution_count": null,
      "outputs": []
    },
    {
      "cell_type": "code",
      "source": [
        "a = np.array([(1,2) , (10,3)])\n",
        "print(a)\n",
        "\n",
        "b = np.array([(0,4) , (3,2)])\n",
        "print(b)"
      ],
      "metadata": {
        "colab": {
          "base_uri": "https://localhost:8080/"
        },
        "id": "sYD4KjC1myWm",
        "outputId": "50f6b512-bbc5-4b2c-be35-e23e75880c86"
      },
      "execution_count": null,
      "outputs": [
        {
          "output_type": "stream",
          "name": "stdout",
          "text": [
            "[[ 1  2]\n",
            " [10  3]]\n",
            "[[0 4]\n",
            " [3 2]]\n"
          ]
        }
      ]
    },
    {
      "cell_type": "code",
      "source": [
        "np.multiply(a , b)"
      ],
      "metadata": {
        "colab": {
          "base_uri": "https://localhost:8080/"
        },
        "id": "BTjVm8XAmybF",
        "outputId": "52c7434c-fd3b-4125-89ba-02716fe2753f"
      },
      "execution_count": null,
      "outputs": [
        {
          "output_type": "execute_result",
          "data": {
            "text/plain": [
              "array([[ 0,  8],\n",
              "       [30,  6]])"
            ]
          },
          "metadata": {},
          "execution_count": 56
        }
      ]
    },
    {
      "cell_type": "code",
      "source": [
        "np.dot(a,b)"
      ],
      "metadata": {
        "colab": {
          "base_uri": "https://localhost:8080/"
        },
        "id": "BTPkfrzboXzA",
        "outputId": "c1c82f76-c1af-4ef6-9c33-2ff9b07b6a8d"
      },
      "execution_count": null,
      "outputs": [
        {
          "output_type": "execute_result",
          "data": {
            "text/plain": [
              "array([[ 6,  8],\n",
              "       [ 9, 46]])"
            ]
          },
          "metadata": {},
          "execution_count": 57
        }
      ]
    },
    {
      "cell_type": "code",
      "source": [
        "a.max()"
      ],
      "metadata": {
        "colab": {
          "base_uri": "https://localhost:8080/"
        },
        "id": "CzlYTV_uoYBT",
        "outputId": "f3103405-42af-4ade-a186-9cf2db7914ce"
      },
      "execution_count": null,
      "outputs": [
        {
          "output_type": "execute_result",
          "data": {
            "text/plain": [
              "10"
            ]
          },
          "metadata": {},
          "execution_count": 58
        }
      ]
    },
    {
      "cell_type": "code",
      "source": [
        "#np.matmul(array a, array b): returns the matrix product of two arrays\n",
        "#np.dot(array a, array b): returns the scalar or dot product of two arrays"
      ],
      "metadata": {
        "id": "3r7NpZgMpDO9"
      },
      "execution_count": null,
      "outputs": []
    },
    {
      "cell_type": "code",
      "source": [
        "a.cumsum()"
      ],
      "metadata": {
        "colab": {
          "base_uri": "https://localhost:8080/"
        },
        "id": "0VzIjngWpLNF",
        "outputId": "20635d0f-c6d6-4e77-bd2c-6ed938408568"
      },
      "execution_count": null,
      "outputs": [
        {
          "output_type": "execute_result",
          "data": {
            "text/plain": [
              "array([ 1,  3, 13, 16])"
            ]
          },
          "metadata": {},
          "execution_count": 59
        }
      ]
    },
    {
      "cell_type": "code",
      "source": [
        "a.cumsum(axis=0)"
      ],
      "metadata": {
        "colab": {
          "base_uri": "https://localhost:8080/"
        },
        "id": "BP9QVg4upLYY",
        "outputId": "d7f9bc0c-64a2-4fdc-81f9-47be5540c3f9"
      },
      "execution_count": null,
      "outputs": [
        {
          "output_type": "execute_result",
          "data": {
            "text/plain": [
              "array([[ 1,  2],\n",
              "       [11,  5]])"
            ]
          },
          "metadata": {},
          "execution_count": 60
        }
      ]
    },
    {
      "cell_type": "code",
      "source": [
        "h=a.copy()\n",
        "h"
      ],
      "metadata": {
        "colab": {
          "base_uri": "https://localhost:8080/"
        },
        "id": "5a0t4JZhpLc0",
        "outputId": "85caac63-2dc9-4a85-dbdd-482e1993b2de"
      },
      "execution_count": null,
      "outputs": [
        {
          "output_type": "execute_result",
          "data": {
            "text/plain": [
              "array([[ 1,  2],\n",
              "       [10,  3]])"
            ]
          },
          "metadata": {},
          "execution_count": 62
        }
      ]
    },
    {
      "cell_type": "code",
      "source": [
        "#Écrire une liste d’instructions qui permette d’affecter la valeur sin(π/4) à x,\n",
        "#cos (π/4) à y et de calculer z = x**2 + y**2\n",
        "#Afficher la valeur contenue dansla variable z.\n",
        "import numpy\n",
        "x=numpy.sin(numpy.pi/4)\n",
        "print(x)\n",
        "y=numpy.cos(numpy.pi/4)\n",
        "print(y)\n",
        "def carre(i):\n",
        " return i**2\n",
        "z = x**2 + y**2\n",
        "z1= carre(x)+carre(y)\n",
        "print(z)\n",
        "print(z1)\n",
        "\n"
      ],
      "metadata": {
        "colab": {
          "base_uri": "https://localhost:8080/"
        },
        "id": "F3O1Du-qpLf5",
        "outputId": "da6c938b-7731-403c-f4f7-370d18273c63"
      },
      "execution_count": null,
      "outputs": [
        {
          "output_type": "stream",
          "name": "stdout",
          "text": [
            "0.7071067811865475\n",
            "0.7071067811865476\n",
            "1.0\n",
            "1.0\n"
          ]
        }
      ]
    },
    {
      "cell_type": "code",
      "source": [
        "#A l'aide de la bibliothèque numpy, écrire un programme qui permet de créer une matrice du type 3x3 formée des entiers 1 , 2 , 3 , ... , 9."
      ],
      "metadata": {
        "id": "xODTB_8_pLj4"
      },
      "execution_count": null,
      "outputs": []
    },
    {
      "cell_type": "code",
      "source": [
        "b= np.array([(1,2,3) , (4,5,6),(7,8,9)])\n",
        "print(b)\n",
        "\n",
        "M = np.arange(1 , 10).reshape((3, 3))\n",
        "print(M)"
      ],
      "metadata": {
        "colab": {
          "base_uri": "https://localhost:8080/"
        },
        "id": "ou_6Ug1Mz2CS",
        "outputId": "9554a982-fcf8-46c3-b117-d2eb70caab78"
      },
      "execution_count": null,
      "outputs": [
        {
          "output_type": "stream",
          "name": "stdout",
          "text": [
            "[[1 2 3]\n",
            " [4 5 6]\n",
            " [7 8 9]]\n",
            "[[1 2 3]\n",
            " [4 5 6]\n",
            " [7 8 9]]\n"
          ]
        }
      ]
    },
    {
      "cell_type": "code",
      "source": [
        "\n",
        "a = np.arange(1, 10)\n",
        "\n",
        "a.shape = (np.size(a), 3)\n",
        "\n"
      ],
      "metadata": {
        "id": "l1aZrFhmz2FG"
      },
      "execution_count": null,
      "outputs": []
    },
    {
      "cell_type": "code",
      "source": [
        "#Créer un programme qui calcule la transposée de la matrice suivante à l'aide de la bibliothèque numpy:\n",
        "\n",
        "A = np.array([[1, 2, 3],\n",
        "[4, 5, 6],\n",
        "[7, 8, 9,]])\n",
        "print(A)\n",
        "t= A.transpose()\n",
        "print(t)\n"
      ],
      "metadata": {
        "colab": {
          "base_uri": "https://localhost:8080/"
        },
        "id": "MpUXLx0bz2JC",
        "outputId": "f1db1c2d-4971-41d3-f817-6bdffdda3dba"
      },
      "execution_count": null,
      "outputs": [
        {
          "output_type": "stream",
          "name": "stdout",
          "text": [
            "[[1 2 3]\n",
            " [4 5 6]\n",
            " [7 8 9]]\n",
            "[[1 4 7]\n",
            " [2 5 8]\n",
            " [3 6 9]]\n"
          ]
        }
      ]
    },
    {
      "cell_type": "code",
      "source": [
        "# Méthode 3\n",
        "\n",
        "A = np.array([[1, 2, 3],\n",
        "[4, 5, 6],\n",
        "[7, 8, 9],\n",
        "[17, -8, 90]])\n",
        "#print(A)\n",
        "#print(A.shape[1])\n",
        "\n",
        "def mat_transpose(C):\n",
        "\n",
        "transposed = np.zeros((C.shape[1], C.shape[0]))\n",
        "print(transposed)\n",
        "print()\n",
        "\n",
        "for i in range(0,C.shape[0]):\n",
        "for j in range(0,C.shape[1]):\n",
        "transposed[j][i] = C[i][j]\n",
        "print(transposed)\n",
        "\n",
        "mat_transpose(A)"
      ],
      "metadata": {
        "id": "EIa_S9Zs3k00"
      },
      "execution_count": null,
      "outputs": []
    },
    {
      "cell_type": "code",
      "source": [
        "A = np.array([[1, 2, 3],\n",
        "[4, 5, 6],\n",
        "[7, 8, 9,]])\n",
        "def Diago(M, r, c):\n",
        "  for i in range(r):\n",
        "    for j in range(c):\n",
        "        if (i == j ) :\n",
        "          M[i][j] = 0\n",
        "          return M\n",
        "\n",
        "\n",
        "\n"
      ],
      "metadata": {
        "id": "K2Dpzd7X3k4N"
      },
      "execution_count": 17,
      "outputs": []
    },
    {
      "cell_type": "code",
      "source": [
        "Diago(A, 3, 3)"
      ],
      "metadata": {
        "colab": {
          "base_uri": "https://localhost:8080/"
        },
        "id": "LyiCCTYDJmUa",
        "outputId": "ee6cab24-3fc0-4c1f-9926-d39ec365b97d"
      },
      "execution_count": 18,
      "outputs": [
        {
          "output_type": "execute_result",
          "data": {
            "text/plain": [
              "array([[0, 2, 3],\n",
              "       [4, 5, 6],\n",
              "       [7, 8, 9]])"
            ]
          },
          "metadata": {},
          "execution_count": 18
        }
      ]
    },
    {
      "cell_type": "markdown",
      "source": [
        "A = np.array([[8 , 5 , 1],\n",
        "[1 , 7 , 3],\n",
        "[2 , -1 , 4]])\n",
        "\n",
        "A = np.array([[0 , 50 , 1],\n",
        "[1 , 7 , 3],\n",
        "[2 , 1 , 4]])\n",
        "\n",
        "# Faire A * B en utilisant les bloucles for & def\n"
      ],
      "metadata": {
        "id": "5eyOiKqp-bXA"
      }
    },
    {
      "cell_type": "code",
      "source": [
        "A = np.array([[8 , 5 , 1],\n",
        "[1 , 7 , 3],\n",
        "[2 , -1 , 4]])\n",
        "\n",
        "B = np.array([[0 , 50 , 1],\n",
        "[1 , 7 , 3],\n",
        "[2 , 1 , 4]])\n",
        "# ex calcul [ 1 2 ] x [ 5 6 ] = [ 1*5+2*7 1*6+2*8 ]\n",
        "          # [ 3 4 ]   [ 7 8 ]   [ 3*5+4*7 3*6+4*8 ]\n",
        "# Faire     A[ i j ] x B[ m n ]\n",
        "          #  [ k l ]    [ o p ]  R= A(ijkl) * B(mnop) en utilisant les bloucles for & def , so R( im+ jo / in+ jp )\n",
        "          #                                                                                     ( km+ lo / kn+ lp )\n",
        "\n",
        "def mul(mat1,mat2):\n",
        "    product = [ [0,0,0],[0,0,0],[0,0,0] ] # final result\n",
        "\n",
        "    for i in range(len(mat1)):\n",
        "\n",
        "        #row = [] # the new row in new matrix\n",
        "      for j in range(len(mat2)):\n",
        "           #product = 0 # the new element in the new row\n",
        "\n",
        "         for k in range(len(mat2)):\n",
        "          product[i][j] += mat1[i][k] * mat2[k][j]\n",
        "\n",
        "          for k in product:\n",
        "              print(k)\n",
        "              return\n"
      ],
      "metadata": {
        "id": "309b2Gy73k-T"
      },
      "execution_count": 32,
      "outputs": []
    },
    {
      "cell_type": "code",
      "source": [
        "print(\"Result de product2: \")\n",
        "Mul(A,B)"
      ],
      "metadata": {
        "colab": {
          "base_uri": "https://localhost:8080/"
        },
        "id": "hdsGxnxEMVvr",
        "outputId": "246c36b4-9f01-49db-c891-d4e8e2943245"
      },
      "execution_count": 33,
      "outputs": [
        {
          "output_type": "stream",
          "name": "stdout",
          "text": [
            "Result de product2: \n",
            "[7, 436, 27]\n",
            "[13, 102, 34]\n",
            "[7, 97, 15]\n"
          ]
        },
        {
          "output_type": "execute_result",
          "data": {
            "text/plain": [
              "0"
            ]
          },
          "metadata": {},
          "execution_count": 33
        }
      ]
    },
    {
      "cell_type": "code",
      "source": [
        "A = np.array([[8 , 5 , 1],\n",
        "[1 , 7 , 3],\n",
        "[2 , -1 , 4]])\n",
        "\n",
        "B = np.array([[0 , 50 , 1],\n",
        "[1 , 7 , 3],\n",
        "[2 , 1 , 4]])\n",
        "def Mul(mA,mB):\n",
        "    result=[ [0,0,0],[0,0,0],[0,0,0] ]\n",
        "    #for rows\n",
        "    for i in range(len(mA)):\n",
        "        #for columns\n",
        "        for j in range(len(mB[0])):\n",
        "            #for rows of matrix B\n",
        "            for k in range(len(mB)):\n",
        "                result[i][j] += mA[i][k] * mB[k][j]\n",
        "\n",
        "    for k in result:\n",
        "        print(k)\n",
        "    return 0\n",
        "\n",
        "\n",
        "print(\"Result: \")\n",
        "Mul(A,B)"
      ],
      "metadata": {
        "colab": {
          "base_uri": "https://localhost:8080/"
        },
        "id": "TJYX7MnCJgxX",
        "outputId": "e1acdbbd-1ce4-44ca-f2be-08e767042c50"
      },
      "execution_count": 24,
      "outputs": [
        {
          "output_type": "stream",
          "name": "stdout",
          "text": [
            "Result: \n",
            "[7, 436, 27]\n",
            "[13, 102, 34]\n",
            "[7, 97, 15]\n"
          ]
        },
        {
          "output_type": "execute_result",
          "data": {
            "text/plain": [
              "0"
            ]
          },
          "metadata": {},
          "execution_count": 24
        }
      ]
    },
    {
      "cell_type": "code",
      "source": [
        "A = np.array([[0 , 4 , 1],\n",
        "[1 , 2 , 3],\n",
        "[3 , 3 , 4]])\n",
        "\n",
        "B = np.array([[0 , 5 , 1],\n",
        "[3 , 4 , 0],\n",
        "[2 , 1 , 4]])\n",
        "\n",
        "result = [[0,0,0],\n",
        "         [0,0,0],\n",
        "         [0,0,0]]\n",
        "# iterate through rows of X\n",
        "for i in range(len(A)):\n",
        "   # iterate through columns of Y\n",
        "   for j in range(len(B[0])):\n",
        "       # iterate through rows of Y\n",
        "       for k in range(len(B)):\n",
        "        result[i][j] += A[i][k] * B[k][j]\n",
        "\n",
        "for r in result:\n",
        "   print(r)\n"
      ],
      "metadata": {
        "colab": {
          "base_uri": "https://localhost:8080/"
        },
        "id": "RmF9sRDFBfIZ",
        "outputId": "ea7c2670-bbdc-4d1e-b799-b5447a44f9fd"
      },
      "execution_count": 10,
      "outputs": [
        {
          "output_type": "stream",
          "name": "stdout",
          "text": [
            "[14, 17, 4]\n",
            "[12, 16, 13]\n",
            "[17, 31, 19]\n"
          ]
        }
      ]
    },
    {
      "cell_type": "code",
      "source": [
        "import numpy as np\n",
        "\n",
        "A = np.array([[0 , 4 , 1],\n",
        "[1 , 2 , 3],\n",
        "[3 , 3 , 4]])\n",
        "\n",
        "B = np.array([[0 , 5 , 1],\n",
        "[3 , 4 , 0],\n",
        "[2 , 1 , 4]])\n",
        "\n",
        "\n",
        "result= [[0,0,0,0], [0,0,0,0], [0,0,0,0]]\n",
        "result= np.dot(A,B)\n",
        "\n",
        "for p in result:\n",
        "    print(p)"
      ],
      "metadata": {
        "colab": {
          "base_uri": "https://localhost:8080/"
        },
        "id": "6RDq0c_D3lCE",
        "outputId": "1076de24-69d2-4151-e423-b471799b99a6"
      },
      "execution_count": 35,
      "outputs": [
        {
          "output_type": "stream",
          "name": "stdout",
          "text": [
            "[14 17  4]\n",
            "[12 16 13]\n",
            "[17 31 19]\n"
          ]
        }
      ]
    }
  ]
}